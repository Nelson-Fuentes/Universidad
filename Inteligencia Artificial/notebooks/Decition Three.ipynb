{
 "cells": [
  {
   "cell_type": "markdown",
   "metadata": {},
   "source": [
    "\n",
    "\\begin{titlepage}\n",
    "\\centering\n",
    "{\\bfseries\\LARGE Universidad Nacional San Agustin de Arequipa \\par}\n",
    "\\vspace{1cm}\n",
    "{\\scshape\\Large Facultad de Ingenierias de Produccion y Servicios \\par}\n",
    "\\vspace{3cm}\n",
    "{\\scshape\\Huge Escuela Profesional de Ingenieria de Sistemas \\par}\n",
    "\\vspace{3cm}\n",
    "{\\itshape\\Large Inteligencia Artificial \\par}\n",
    "\\vfill\n",
    "{\\Large Alumno: \\par}\n",
    "{\\Large Fuentes Paredes Nelson Alejandro \\par}\n",
    "\\vfill\n",
    "{\\Large Mayo 2020 \\par}\n",
    "\\end{titlepage}"
   ]
  },
  {
   "cell_type": "code",
   "execution_count": null,
   "metadata": {},
   "outputs": [],
   "source": []
  },
  {
   "cell_type": "markdown",
   "metadata": {},
   "source": [
    "# Importado Librerias"
   ]
  },
  {
   "cell_type": "code",
   "execution_count": 1,
   "metadata": {},
   "outputs": [],
   "source": [
    "import pprint\n",
    "import math\n",
    "import pandas as pd"
   ]
  },
  {
   "cell_type": "markdown",
   "metadata": {},
   "source": [
    "# Metodo para calcular la Entriopia"
   ]
  },
  {
   "cell_type": "code",
   "execution_count": 2,
   "metadata": {},
   "outputs": [],
   "source": [
    "def entropy(data):\n",
    "    size = len(data)\n",
    "    positive = len(data.loc[data['Clase'] == '+'])\n",
    "    negative = len(data.loc[data['Clase'] == '-'])\n",
    "    if positive > 0:\n",
    "        positive = (positive / size) * math.log2(positive / size)\n",
    "    else:\n",
    "        positive = 0\n",
    "    if negative > 0:\n",
    "        negative = negative / size * math.log2(negative / size)\n",
    "    else:\n",
    "        negative = 0\n",
    "    return - positive - negative"
   ]
  },
  {
   "cell_type": "markdown",
   "metadata": {},
   "source": [
    "# Metodo Para calcular la ganancia de un atributo\n",
    "Este metodo también retorna una diccionario con la entriopia de cada valor posible del atributo,recibe la data y las columnas sobre laa que tiene que trabajar y la entropia del atributo anterior."
   ]
  },
  {
   "cell_type": "code",
   "execution_count": 3,
   "metadata": {},
   "outputs": [],
   "source": [
    "def earning(data, column, entropy_current):\n",
    "    earn = entropy_current\n",
    "    unique_values = data[column].unique()\n",
    "    entropies = {}\n",
    "    for value in unique_values:\n",
    "        data_value = data.loc[data[column] == value]\n",
    "        entropy_value = entropy(data_value)\n",
    "        entropies[value] = entropy_value\n",
    "        earn = earn - len(data_value) / len(data) * entropy_value\n",
    "    return earn, entropies"
   ]
  },
  {
   "cell_type": "markdown",
   "metadata": {},
   "source": [
    "# Metodo para la contrucción del árbol y nodo\n",
    "Es un metodo recursivo que recibe los datos y columnas que van quedando y aplica el algoritmo ID3"
   ]
  },
  {
   "cell_type": "code",
   "execution_count": 4,
   "metadata": {},
   "outputs": [],
   "source": [
    "def build_node(data, columns):\n",
    "    entropy_data = entropy(data)\n",
    "    dictionary = {}\n",
    "    earnings = pd.DataFrame(columns=('Column', 'Earning'))\n",
    "    entropies = {}\n",
    "    \n",
    "    # Obtención de la ganacia y entriopias de los valores del atributo\n",
    "    for column in columns:\n",
    "        earn_result = earning(data, column, entropy_data)\n",
    "        earn = earn_result[0]\n",
    "        entropies[column] = earn_result[1]\n",
    "        earnings.loc[len(earnings)] = [column, earn]\n",
    "    \n",
    "    # Selección del atributo con más ganancia\n",
    "    earnings = earnings.set_index('Column')\n",
    "    major = earnings[['Earning']].idxmax().to_list()[0]\n",
    "    \n",
    "    # Creación del nuevo nodo con el valor resultado o un nuevo nodo recursivo\n",
    "    node = entropies[major]\n",
    "    columns = columns.drop(major)\n",
    "    for value in node:\n",
    "        new_data = data.loc[data[major] == value]\n",
    "        if node[value] == 0:\n",
    "            node[value] = new_data['Clase'].mode()[0]\n",
    "        else:\n",
    "            node[value] = build_node(new_data, columns)\n",
    "    dictionary[major] = node\n",
    "    return dictionary"
   ]
  },
  {
   "cell_type": "markdown",
   "metadata": {},
   "source": [
    "# Metodo Principal\n",
    "Recibe como parametro el nombre del archivo que va a usar"
   ]
  },
  {
   "cell_type": "code",
   "execution_count": 5,
   "metadata": {},
   "outputs": [],
   "source": [
    "def main(file):\n",
    "    data = pd.read_csv(file,  index_col=0)\n",
    "    print(data)\n",
    "    columns = data.columns.drop('Clase')\n",
    "    return build_node(data, columns)"
   ]
  },
  {
   "cell_type": "markdown",
   "metadata": {},
   "source": [
    "# Ejecución del Algoritmo"
   ]
  },
  {
   "cell_type": "code",
   "execution_count": 6,
   "metadata": {},
   "outputs": [
    {
     "name": "stdout",
     "output_type": "stream",
     "text": [
      "    Color     Forma   Tamaño Clase\n",
      "Ej                                \n",
      "1    rojo  cuadrado   grande     +\n",
      "2    azul  cuadrado   grande     +\n",
      "3    rojo   redondo  pequeño     -\n",
      "4   verde  cuadrado  pequeño     -\n",
      "5    rojo   redondo   grande     +\n",
      "6   verde  cuadrado   grande     -\n",
      "\n",
      "ÁRBOL RESULTADO\n",
      "\n",
      "{'Color': {'azul': '+',\n",
      "           'rojo': {'Tamaño': {'grande': '+',\n",
      "                               'pequeño': '-'}},\n",
      "           'verde': '-'}}\n"
     ]
    }
   ],
   "source": [
    "file = 'data.csv'\n",
    "three = main(file)\n",
    "print(\"\\nÁRBOL RESULTADO\\n\")\n",
    "pprint.pprint(three, width=1)"
   ]
  }
 ],
 "metadata": {
  "kernelspec": {
   "display_name": "Python 3",
   "language": "python",
   "name": "python3"
  },
  "language_info": {
   "codemirror_mode": {
    "name": "ipython",
    "version": 3
   },
   "file_extension": ".py",
   "mimetype": "text/x-python",
   "name": "python",
   "nbconvert_exporter": "python",
   "pygments_lexer": "ipython3",
   "version": "3.7.6"
  }
 },
 "nbformat": 4,
 "nbformat_minor": 4
}
