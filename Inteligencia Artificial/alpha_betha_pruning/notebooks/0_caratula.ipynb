{
 "cells": [
  {
   "cell_type": "markdown",
   "metadata": {},
   "source": [
    "\n",
    "\\begin{titlepage}\n",
    "\\centering\n",
    "{\\bfseries\\LARGE Universidad Nacional San Agustin de Arequipa \\par}\n",
    "\\vspace{1cm}\n",
    "{\\scshape\\Large Facultad de Ingenierias de Produccion y Servicios \\par}\n",
    "\\vspace{3cm}\n",
    "{\\scshape\\Huge Escuela Profesional de Ingenieria de Sistemas \\par}\n",
    "\\vspace{3cm}\n",
    "{\\itshape\\Large Inteligencia Artificial \\par}\n",
    "\\vfill\n",
    "{\\Large Alumno: \\par}\n",
    "{\\Large Fuentes Paredes Nelson Alejandro \\par}\n",
    "\\vfill\n",
    "{\\Large Mayo 2020 \\par}\n",
    "\\end{titlepage}"
   ]
  },
  {
   "cell_type": "code",
   "execution_count": null,
   "metadata": {},
   "outputs": [],
   "source": []
  }
 ],
 "metadata": {
  "kernelspec": {
   "display_name": "Python 3",
   "language": "python",
   "name": "python3"
  },
  "language_info": {
   "codemirror_mode": {
    "name": "ipython",
    "version": 3
   },
   "file_extension": ".py",
   "mimetype": "text/x-python",
   "name": "python",
   "nbconvert_exporter": "python",
   "pygments_lexer": "ipython3",
   "version": "3.7.6"
  }
 },
 "nbformat": 4,
 "nbformat_minor": 4
}
