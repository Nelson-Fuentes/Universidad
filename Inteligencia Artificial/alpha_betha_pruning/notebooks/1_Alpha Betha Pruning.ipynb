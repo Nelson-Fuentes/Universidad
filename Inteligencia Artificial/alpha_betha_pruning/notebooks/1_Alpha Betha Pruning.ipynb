{
 "cells": [
  {
   "cell_type": "markdown",
   "metadata": {},
   "source": [
    "# Clase Nodo"
   ]
  },
  {
   "cell_type": "code",
   "execution_count": 1,
   "metadata": {},
   "outputs": [],
   "source": [
    "class Node:\n",
    "\n",
    "    def __init__(self, n=2):\n",
    "        self.n = n\n",
    "        self.data = []\n",
    "        self.full = False\n",
    "\n",
    "    def isFull(self):\n",
    "        return len(self.data) == self.n\n",
    "\n",
    "    def insert(self, value):\n",
    "        if len(self.data) == 0:\n",
    "            self.data.append(value)\n",
    "            return None\n",
    "        last_node = self.data[len(self.data) - 1]\n",
    "\n",
    "        if isinstance(last_node, Node):\n",
    "            value = last_node.insert(value)\n",
    "            if value is None:\n",
    "                return None\n",
    "        if not self.isFull() and value is not None:\n",
    "            self.data.append(value)\n",
    "            return None\n",
    "        else:\n",
    "            new_Node = Node(self.n)\n",
    "            new_Node.insert(value)\n",
    "            return new_Node\n",
    "\n",
    "    def __str__(self):\n",
    "\n",
    "        strings = \"\"\n",
    "        for dat in self.data:\n",
    "            strings = strings + \", \" + str(dat)\n",
    "        return \"[\" + strings + \"]\""
   ]
  },
  {
   "cell_type": "markdown",
   "metadata": {},
   "source": [
    "# Clare Árbol Alfa Beta"
   ]
  },
  {
   "cell_type": "code",
   "execution_count": 2,
   "metadata": {},
   "outputs": [],
   "source": [
    "class AlphaBethaTree:\n",
    "\n",
    "    def __init__(self, n):\n",
    "        self.__n__ = n\n",
    "        self.__root__ = Node(n)\n",
    "\n",
    "    def insert(self, value):\n",
    "        new_Node: Optional[Node] = self.__root__.insert(value)\n",
    "        if new_Node is not None:\n",
    "            n = Node(self.__n__)\n",
    "            n.data.append(self.__root__)\n",
    "            n.data.append(new_Node)\n",
    "\n",
    "\n",
    "            self.__root__ = n\n",
    "\n",
    "    def pruning(self):\n",
    "        return self.__pruning__(self.__root__ ,-1000, 1000, 0)\n",
    "    \n",
    "    # Algoritmo\n",
    "    def __pruning__(self, node, alpha, betha , depth):\n",
    "        if not isinstance(node, Node):\n",
    "            return node\n",
    "        if depth %2 == 0:\n",
    "            for child in node.data:\n",
    "                alpha = max(alpha, self.__pruning__(child, alpha, betha, depth+1))\n",
    "                if betha<=alpha:\n",
    "                    break\n",
    "            return alpha\n",
    "        else:\n",
    "            for child in node.data:\n",
    "                betha = min(betha, self.__pruning__(child, alpha, betha, depth+1))\n",
    "                if betha<=alpha:\n",
    "                    break\n",
    "            return betha\n",
    "\n",
    "\n",
    "    def __str__(self):\n",
    "        return str(self.__root__)"
   ]
  },
  {
   "cell_type": "markdown",
   "metadata": {},
   "source": [
    "# Ejecución"
   ]
  },
  {
   "cell_type": "code",
   "execution_count": 9,
   "metadata": {},
   "outputs": [
    {
     "name": "stdout",
     "output_type": "stream",
     "text": [
      "Árbol\t\t:\t [, [, [, -68, 44, 54], [, 63, -42, 66], [, 96, 97, 42]], [, [, 93, 74, -70], [, 76, -81, -40], [, -63, -60, 9]]]\n",
      "Resultado\t:\t 54\n",
      "\n",
      "\n",
      "\n",
      "Árbol\t\t:\t [, [, [, -47, 79, 98], [, -39, 41, 17], [, 92, -49, -48]], [, [, -16, -47, 48], [, -11, -45, -81], [, -38, 96, -64]]]\n",
      "Resultado\t:\t 41\n",
      "\n",
      "\n",
      "\n",
      "Árbol\t\t:\t [, [, [, -78, -86, 89], [, -54, 42, 71], [, -40, -89, -10]], [, [, -30, -99, 56], [, -65, 85, 33], [, -94, -40, 25]]]\n",
      "Resultado\t:\t 25\n",
      "\n",
      "\n",
      "\n",
      "Árbol\t\t:\t [, [, [, -86, 12, 86], [, 32, -14, -22], [, -27, 99, 46]], [, [, 11, -38, 64], [, -45, -47, -90], [, -80, -80, -25]]]\n",
      "Resultado\t:\t 32\n",
      "\n",
      "\n",
      "\n",
      "Árbol\t\t:\t [, [, [, 18, 36, -11], [, -22, -88, -45], [, -82, -40, -19]], [, [, 50, 18, 7], [, -100, 13, -27], [, -77, 30, -64]]]\n",
      "Resultado\t:\t 13\n",
      "\n",
      "\n",
      "\n",
      "Árbol\t\t:\t [, [, [, -54, -56, -42], [, 2, -69, 7], [, 34, -52, -63]], [, [, 6, 64, 36], [, 91, 69, 8], [, -8, -66, 62]]]\n",
      "Resultado\t:\t 62\n",
      "\n",
      "\n",
      "\n",
      "Árbol\t\t:\t [, [, [, 65, 19, -82], [, -72, -62, -53], [, 50, 64, -92]], [, [, -88, -42, 12], [, -70, -55, 20], [, 70, -100, -49]]]\n",
      "Resultado\t:\t 12\n",
      "\n",
      "\n",
      "\n",
      "Árbol\t\t:\t [, [, [, -32, -35, 13], [, -72, 33, -41], [, 20, -12, -76]], [, [, -13, 53, 74], [, -22, 83, -38], [, -18, 13, 21]]]\n",
      "Resultado\t:\t 21\n",
      "\n",
      "\n",
      "\n",
      "Árbol\t\t:\t [, [, [, -49, -50, -24], [, 92, 2, -65], [, -53, -60, 17]], [, [, -47, 9, 94], [, 90, 76, -9], [, 86, 95, -70]]]\n",
      "Resultado\t:\t 90\n",
      "\n",
      "\n",
      "\n"
     ]
    }
   ],
   "source": [
    "import random \n",
    "\n",
    "def main():\n",
    "    t = AlphaBethaTree(3)\n",
    "    for i in range(0, 18):\n",
    "        t.insert(random.randint(-100, 100))\n",
    "    print('Árbol\\t\\t:\\t', t)\n",
    "\n",
    "    print('Resultado\\t:\\t',t.pruning())\n",
    "\n",
    "if __name__ == '__main__':\n",
    "    for i in range(1, 10):\n",
    "        main()\n",
    "        print('\\n\\n')"
   ]
  },
  {
   "cell_type": "code",
   "execution_count": null,
   "metadata": {},
   "outputs": [],
   "source": []
  }
 ],
 "metadata": {
  "kernelspec": {
   "display_name": "Python 3",
   "language": "python",
   "name": "python3"
  },
  "language_info": {
   "codemirror_mode": {
    "name": "ipython",
    "version": 3
   },
   "file_extension": ".py",
   "mimetype": "text/x-python",
   "name": "python",
   "nbconvert_exporter": "python",
   "pygments_lexer": "ipython3",
   "version": "3.7.6"
  }
 },
 "nbformat": 4,
 "nbformat_minor": 4
}
