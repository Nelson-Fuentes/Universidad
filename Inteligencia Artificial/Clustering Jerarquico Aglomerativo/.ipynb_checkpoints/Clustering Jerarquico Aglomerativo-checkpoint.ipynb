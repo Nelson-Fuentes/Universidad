{
 "cells": [
  {
   "cell_type": "markdown",
   "metadata": {},
   "source": [
    "# Importación de Librerias"
   ]
  },
  {
   "cell_type": "code",
   "execution_count": 1,
   "metadata": {},
   "outputs": [],
   "source": [
    "import pandas as pd\n",
    "import numpy as np\n",
    "import matplotlib.pyplot as plt"
   ]
  },
  {
   "cell_type": "markdown",
   "metadata": {},
   "source": [
    "# Metodos Usados"
   ]
  },
  {
   "cell_type": "markdown",
   "metadata": {},
   "source": [
    "## Limpiar datos de una columna\n",
    "Elimina espacios en blanco en los valores de una columna."
   ]
  },
  {
   "cell_type": "code",
   "execution_count": 2,
   "metadata": {},
   "outputs": [],
   "source": [
    "def clear_column(column):\n",
    "    new_column = []\n",
    "    for value in column:\n",
    "        new_column.append(value.replace(' ', ''))\n",
    "    return new_column"
   ]
  },
  {
   "cell_type": "markdown",
   "metadata": {},
   "source": [
    "## Limpia los datos recibidos\n",
    "Limpia los datos de un DataFrame."
   ]
  },
  {
   "cell_type": "code",
   "execution_count": 3,
   "metadata": {},
   "outputs": [],
   "source": [
    "def clear_data(data):\n",
    "    data.columns = clear_column(data.columns)\n",
    "    data[['']] = clear_column(data[''])\n",
    "    data = data.set_index('')\n",
    "    for i in range(len(data)):\n",
    "        data.iat[i, i] = np.nan\n",
    "    return data"
   ]
  },
  {
   "cell_type": "markdown",
   "metadata": {},
   "source": [
    "## Obtener Indices del menor valor\n",
    "Encuentra el menor valor y devuelve un arreglo con sus indices respectivos."
   ]
  },
  {
   "cell_type": "code",
   "execution_count": 4,
   "metadata": {},
   "outputs": [],
   "source": [
    "def getMinIndexes(data):\n",
    "    minimus = data.idxmin(skipna=True).dropna()\n",
    "    for i, row in enumerate(minimus):\n",
    "        minimus[i] = [data[minimus.index[i]][row], row, minimus.index[i]]\n",
    "    return min(minimus)"
   ]
  },
  {
   "cell_type": "markdown",
   "metadata": {},
   "source": [
    "## Funciones para operar con datos que pueden recivbir datos Nan\n",
    "Dependiendo de lo que se necesite devuelven el menor, mayor y promedio entre dos datos."
   ]
  },
  {
   "cell_type": "code",
   "execution_count": 5,
   "metadata": {},
   "outputs": [],
   "source": [
    "def minna(a, b):\n",
    "    if pd.notna(a):\n",
    "        return min(a, b)\n",
    "    return b\n",
    "\n",
    "def maxna(a, b):\n",
    "    if pd.notna(a):\n",
    "        return max(a, b)\n",
    "    return b\n",
    "\n",
    "def meanna(a, b):\n",
    "    if pd.notna(a):\n",
    "        return (a + b) / 2.0\n",
    "    return b"
   ]
  },
  {
   "cell_type": "markdown",
   "metadata": {},
   "source": [
    "## Añadir Fila y Columna a un DataFrame\n",
    "Añade una fila y una fila aplicando en su contenido el resultado de una funcion que se le mande."
   ]
  },
  {
   "cell_type": "code",
   "execution_count": 6,
   "metadata": {},
   "outputs": [],
   "source": [
    "def add_row_and_column_to_data(data, column1, column2, function, label):\n",
    "    new_column = (data.apply(lambda row: function(row[column1], row[column2]), axis=1))\n",
    "    new_row = (data.apply(lambda row: function(row[column1], row[column2]), axis=0))\n",
    "    new_row.name = label\n",
    "    data = data.append(new_row, ignore_index=False)\n",
    "    del (data[column1])\n",
    "    del (data[column2])\n",
    "    data[label] = new_column\n",
    "    return  data.drop([column1, column2])"
   ]
  },
  {
   "cell_type": "markdown",
   "metadata": {},
   "source": [
    "## Algoritmo para Clutering Jerarquico Aglomerativo\n",
    "Recibe un conjunto de datos y una función con los cuales aplica el algoritmo aprendido de forma recursiva, retorna todos los niveles que encontro y la data final."
   ]
  },
  {
   "cell_type": "code",
   "execution_count": 7,
   "metadata": {},
   "outputs": [],
   "source": [
    "def cluster(data, function):\n",
    "    levels = []\n",
    "    if len(data.columns) > 1:\n",
    "        minimun = getMinIndexes(data)\n",
    "        label_minimun = minimun[1] + minimun[2]\n",
    "        levels.append(minimun)\n",
    "        data = add_row_and_column_to_data(data, minimun[1], minimun[2], function, label_minimun)\n",
    "        new_level, data = cluster(data, function)\n",
    "        levels = levels + new_level\n",
    "    return levels, data"
   ]
  },
  {
   "cell_type": "markdown",
   "metadata": {},
   "source": [
    "## Metodos de Clustering Jerarquico\n",
    "Son los metodos aprendidos que utilizan el metodo cluster enviandole los datos que reciben y una función especifica dependiendo del metodo. "
   ]
  },
  {
   "cell_type": "code",
   "execution_count": 8,
   "metadata": {},
   "outputs": [],
   "source": [
    "def single_linkage(data):\n",
    "    return cluster(data, minna)\n",
    "\n",
    "def complete_linkage(data):\n",
    "    return cluster(data, maxna)\n",
    "\n",
    "def mean_linkage(data):\n",
    "    return cluster(data, meanna)"
   ]
  },
  {
   "cell_type": "markdown",
   "metadata": {},
   "source": [
    "## Graficacion de Dendograma\n",
    "Debido a que para crear Dendogramas en Python no se necesita la implementación de algoritmos ya que este los ejecuta segun eleccion del usuario, se decicidio elaborar un metodo propio para graficar el endograma."
   ]
  },
  {
   "cell_type": "code",
   "execution_count": 9,
   "metadata": {},
   "outputs": [],
   "source": [
    "def draw_dendogram(levels, axes, title):\n",
    "    bottom_level = {}\n",
    "    for level in levels:\n",
    "        bottom_level[level[1]] = 0\n",
    "        bottom_level[level[2]] = 0\n",
    "    label_levels = {}\n",
    "    for level in levels:\n",
    "        a = level[1]\n",
    "        b = level[2]\n",
    "        ai = 0\n",
    "        bi = 0\n",
    "        if not a in label_levels:\n",
    "            ai = len(label_levels) + 1\n",
    "            label_levels[a] = ai\n",
    "        else:\n",
    "            ai = label_levels[a]\n",
    "        if not b in label_levels:\n",
    "            bi = len(label_levels) + 1\n",
    "            label_levels[b] = bi\n",
    "        else:\n",
    "            bi = label_levels[b]\n",
    "        label_levels[a + b] = (ai + bi) / 2\n",
    "    label_levels_1 = []\n",
    "    for level in label_levels.keys():\n",
    "        label_levels_1.append([label_levels[level], level])\n",
    "    label_levels_1 = sorted(label_levels_1)\n",
    "    for level in label_levels_1:\n",
    "        axes.plot([level[1]], [0])\n",
    "    fig = plt.Figure()\n",
    "    for level in levels:\n",
    "        axes.set_title(title)\n",
    "        axes.plot([level[1]], [0], 'b')\n",
    "        axes.plot([level[1] + level[2]], [0], 'b')\n",
    "        axes.plot([level[2]], [0], 'b')\n",
    "        axes.plot([level[1], level[2]], [level[0]] * 2, 'b')\n",
    "        axes.plot([level[1], level[1]], [bottom_level[level[1]], level[0]], 'b')\n",
    "        axes.plot([level[2], level[2]], [bottom_level[level[2]], level[0]], 'b')\n",
    "        axes.plot([level[1] + level[2]] * 2, [level[0]] * 2, 'b')\n",
    "        axes.plot([level[1], level[1] + level[2]], [level[0]] * 2, 'b')\n",
    "        axes.set(ylim=(0, 3))\n",
    "        bottom_level[level[1] + level[2]] = level[0]"
   ]
  },
  {
   "cell_type": "markdown",
   "metadata": {},
   "source": [
    "# Ejecucion"
   ]
  },
  {
   "cell_type": "markdown",
   "metadata": {},
   "source": [
    "## Metodo Main\n",
    "Recibe un nombre de archivo, esos datos los limpia y grafica los resultados de los tres metodos de clustering"
   ]
  },
  {
   "cell_type": "code",
   "execution_count": 10,
   "metadata": {},
   "outputs": [],
   "source": [
    "def main(file):\n",
    "    data = pd.read_csv(file, sep='\\t')\n",
    "    data = clear_data(data)\n",
    "    print(data)\n",
    "    fig, ax = plt.subplots(1, 3, constrained_layout=True, figsize=(25, 8))\n",
    "    levels, data1 = single_linkage(data)\n",
    "    draw_dendogram(levels, ax[0], 'Single Linkage')\n",
    "\n",
    "    levels, data2 = complete_linkage(data)\n",
    "    draw_dendogram(levels, ax[1], 'Complete Linkage')\n",
    "\n",
    "    levels, data3 = mean_linkage(data)\n",
    "    draw_dendogram(levels, ax[2], 'Mean Linkage')\n",
    "    plt.show()"
   ]
  },
  {
   "cell_type": "markdown",
   "metadata": {},
   "source": [
    "## Ejecucion"
   ]
  },
  {
   "cell_type": "code",
   "execution_count": 11,
   "metadata": {},
   "outputs": [
    {
     "name": "stdout",
     "output_type": "stream",
     "text": [
      "      A     B     C     D     E     F   G\n",
      "                                         \n",
      "A   NaN   NaN   NaN   NaN   NaN   NaN NaN\n",
      "B  2.15   NaN   NaN   NaN   NaN   NaN NaN\n",
      "C  0.70  1.53   NaN   NaN   NaN   NaN NaN\n",
      "D  1.07  1.14  0.43   NaN   NaN   NaN NaN\n",
      "E  0.85  1.38  0.21  0.29   NaN   NaN NaN\n",
      "F  1.16  1.01  0.55  0.22  0.41   NaN NaN\n",
      "G  1.56  2.83  1.86  2.04  2.02  2.05 NaN\n"
     ]
    },
    {
     "data": {
      "image/png": "[encoded data removed]",
      "text/plain": [
       "<Figure size 1800x576 with 3 Axes>"
      ]
     },
     "metadata": {
      "needs_background": "light"
     },
     "output_type": "display_data"
    }
   ],
   "source": [
    "main('cluster.txt')"
   ]
  },
  {
   "cell_type": "code",
   "execution_count": null,
   "metadata": {},
   "outputs": [],
   "source": []
  }
 ],
 "metadata": {
  "kernelspec": {
   "display_name": "Python 3",
   "language": "python",
   "name": "python3"
  },
  "language_info": {
   "codemirror_mode": {
    "name": "ipython",
    "version": 3
   },
   "file_extension": ".py",
   "mimetype": "text/x-python",
   "name": "python",
   "nbconvert_exporter": "python",
   "pygments_lexer": "ipython3",
   "version": "3.7.6"
  }
 },
 "nbformat": 4,
 "nbformat_minor": 4
}
