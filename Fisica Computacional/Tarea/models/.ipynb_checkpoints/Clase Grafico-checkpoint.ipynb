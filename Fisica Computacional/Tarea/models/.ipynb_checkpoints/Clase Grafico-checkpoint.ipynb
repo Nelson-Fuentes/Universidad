{
 "cells": [
  {
   "cell_type": "markdown",
   "metadata": {},
   "source": [
    "# Clase Grafico"
   ]
  },
  {
   "cell_type": "code",
   "execution_count": 2,
   "metadata": {},
   "outputs": [],
   "source": [
    "import matplotlib.pyplot as plt\n",
    "from Vector import Vector\n",
    "import numpy as np\n",
    "from mpl_toolkits.mplot3d import axes3d\n",
    "\n",
    "class Graphic:\n",
    "\n",
    "    DEFAULT_X_MIN = -10\n",
    "    DEFAULT_X_MAX = 10\n",
    "    DEFAULT_Y_MIN = -10\n",
    "    DEFAULT_Y_MAX = 10\n",
    "    DEFAULT_Z_MIN = -10\n",
    "    DEFAULT_Z_MAX = 10\n",
    "\n",
    "\n",
    "    def __init__(self, xmin=DEFAULT_X_MIN, xmax=DEFAULT_X_MAX, ymin=DEFAULT_Y_MIN, ymax = DEFAULT_Y_MAX, zmin = DEFAULT_Z_MIN, zmax = DEFAULT_Z_MAX):\n",
    "        self.__figure__ = plt.figure()\n",
    "        self.__axis__ = self.__figure__.gca(projection='3d')\n",
    "        self.__axis__.set(xlim=(xmin, xmax), ylim=(ymin, ymax), zlim=(zmin,zmax), xlabel='Eje X', ylabel='Eje Y', zlabel='Eje Z')\n",
    "\n",
    "    def vector(self, v: Vector):\n",
    "        self.__axis__.text((v.destiny.x + v.origin.x) / 2, (v.destiny.y + v.origin.y) / 2, (v.destiny.z + v.origin.z) / 2, v.label, color=v.color)\n",
    "        return  self.__axis__.quiver(v.origin.x, v.origin.y, v.origin.z, v.value.x, v.value.y, v.value.z, color=v.color)\n",
    "\n",
    "    def show(self):\n",
    "        plt.show()\n"
   ]
  },
  {
   "cell_type": "code",
   "execution_count": null,
   "metadata": {},
   "outputs": [],
   "source": []
  }
 ],
 "metadata": {
  "kernelspec": {
   "display_name": "Python 3",
   "language": "python",
   "name": "python3"
  },
  "language_info": {
   "codemirror_mode": {
    "name": "ipython",
    "version": 3
   },
   "file_extension": ".py",
   "mimetype": "text/x-python",
   "name": "python",
   "nbconvert_exporter": "python",
   "pygments_lexer": "ipython3",
   "version": "3.7.6"
  }
 },
 "nbformat": 4,
 "nbformat_minor": 4
}
