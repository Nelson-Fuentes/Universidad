{
 "cells": [
  {
   "cell_type": "markdown",
   "id": "4781d4ff",
   "metadata": {},
   "source": [
    "# Datos del Alumno:\n",
    " - **Alumno**: Fuentes Paredes Nelson Alejandro\n",
    " - **Facultad:** Ingenierías de Producción y Servicios\n",
    " - **Escuela Profesional:** Ingeniería de Sistemas\n",
    " - **Curso:** Seguridad Informatica\n",
    " - **Profesora:** Lucy Delgado"
   ]
  },
  {
   "cell_type": "markdown",
   "id": "5a117d9b",
   "metadata": {},
   "source": [
    "# Actividades\n",
    "Implementar las siguientes operaciones de preprocesamiento, en cada caso debe mostrar el código de la implementación de la operación y la salida parcial resultante en cada paso (podrá usar como herramienta de desarrollo C++, phyton o java, pero nunca una libreria).\n",
    "\n",
    "Para la actividad se ha escogido el lenguaje de programación Python con el IDE Jupyter Notebook. Y el poema h sido guardado en el archivo \"poem.txt\""
   ]
  },
  {
   "cell_type": "code",
   "execution_count": 1,
   "id": "9774eb83",
   "metadata": {},
   "outputs": [
    {
     "name": "stdout",
     "output_type": "stream",
     "text": [
      "Mi corazón oprimido\n",
      "Siente junto a la alborada\n",
      "El dolor de sus amores\n",
      "Y el sueño de las distancia.\n",
      "La luz de la aurora lleva\n",
      "Semilleros de nostalgias\n",
      "Y la tristeza sin los ojos\n",
      "De la médula del alma.\n",
      "La gran tumba de la noche\n",
      "Su negro velo levanta\n",
      "Para ocultar con el día\n",
      "La inmensa cumbre estrellada.\n",
      "¡Qué haré yo sobre estos campos\n",
      "Cogiendo niños y ramas\n",
      "Rodeado de la aurora\n",
      "Y llena de noche el ama!\n",
      "¡Qué haré si tienes tus ojos\n",
      "Muertos a las luces claras\n",
      "Y no ha de sentir mi carne\n",
      "El calor de tus miradas!\n",
      "¿Por qué te perdí por siempre\n",
      "En aquella tarde clara?\n",
      "Hoy mi pecho está reseco\n",
      "Como una estrella apagada.\n",
      "\n"
     ]
    }
   ],
   "source": [
    "def _get_file_content(filename: str):\n",
    "    file = open(filename, 'r')\n",
    "    file_content = file.read()\n",
    "    return file_content\n",
    "\n",
    "# Codigo a ejecutar\n",
    "\n",
    "filename = 'poem.txt'\n",
    "file_content = _get_file_content(filename)\n",
    "print(file_content)"
   ]
  },
  {
   "cell_type": "markdown",
   "id": "2753966c",
   "metadata": {},
   "source": [
    "## Realizar las siguientes sustituciones: jxi, hxi, ñxn, kxl, uxv, wxv, yxz, xxr (tanto mayúsculas como minúsculas). "
   ]
  },
  {
   "cell_type": "code",
   "execution_count": 2,
   "id": "ac0e4032",
   "metadata": {},
   "outputs": [
    {
     "name": "stdout",
     "output_type": "stream",
     "text": [
      "Mi corazón oprimido\n",
      "Siente ivnto a la alborada\n",
      "El dolor de svs amores\n",
      "Z el sveno de las distancia.\n",
      "La lvz de la avrora lleva\n",
      "Semilleros de nostalgias\n",
      "Z la tristeza sin los oios\n",
      "De la médvla del alma.\n",
      "La gran tvmba de la nocie\n",
      "Sv negro velo levanta\n",
      "Para ocvltar con el día\n",
      "La inmensa cvmbre estrellada.\n",
      "¡Qvé iaré zo sobre estos campos\n",
      "Cogiendo ninos z ramas\n",
      "Rodeado de la avrora\n",
      "Z llena de nocie el ama!\n",
      "¡Qvé iaré si tienes tvs oios\n",
      "Mvertos a las lvces claras\n",
      "Z no ia de sentir mi carne\n",
      "El calor de tvs miradas!\n",
      "¿Por qvé te perdí por siempre\n",
      "En aqvella tarde clara?\n",
      "Ioz mi pecio está reseco\n",
      "Como vna estrella apagada.\n",
      "\n"
     ]
    }
   ],
   "source": [
    "def _replacing(file_content: str, f: str, t: str):\n",
    "    file_content = file_content.replace(f.lower(), t.lower())\n",
    "    file_content = file_content.replace(f.upper(), t.upper())\n",
    "    return file_content\n",
    "\n",
    "\n",
    "def _replacing_various(file_content: str, changes: list):\n",
    "    for change in changes:\n",
    "        file_content = _replacing(file_content, change[0], change[1])\n",
    "    return file_content\n",
    "\n",
    "# Codigo a ejecutar\n",
    "\n",
    "changes = [['j', 'i'], ['h', 'i'], ['ñ', 'n'], ['k', 'l'], ['u', 'v'], ['w', 'v'], ['y', 'z'], ['x', 'r']]\n",
    "file_content = _replacing_various(file_content, changes)\n",
    "print(file_content)"
   ]
  },
  {
   "cell_type": "markdown",
   "id": "8216d0d7",
   "metadata": {},
   "source": [
    "## Elimine las tildes "
   ]
  },
  {
   "cell_type": "code",
   "execution_count": 3,
   "id": "e33426a3",
   "metadata": {},
   "outputs": [
    {
     "name": "stdout",
     "output_type": "stream",
     "text": [
      "Mi corazon oprimido\n",
      "Siente ivnto a la alborada\n",
      "El dolor de svs amores\n",
      "Z el sveno de las distancia.\n",
      "La lvz de la avrora lleva\n",
      "Semilleros de nostalgias\n",
      "Z la tristeza sin los oios\n",
      "De la medvla del alma.\n",
      "La gran tvmba de la nocie\n",
      "Sv negro velo levanta\n",
      "Para ocvltar con el dia\n",
      "La inmensa cvmbre estrellada.\n",
      "¡Qve iare zo sobre estos campos\n",
      "Cogiendo ninos z ramas\n",
      "Rodeado de la avrora\n",
      "Z llena de nocie el ama!\n",
      "¡Qve iare si tienes tvs oios\n",
      "Mvertos a las lvces claras\n",
      "Z no ia de sentir mi carne\n",
      "El calor de tvs miradas!\n",
      "¿Por qve te perdi por siempre\n",
      "En aqvella tarde clara?\n",
      "Ioz mi pecio esta reseco\n",
      "Como vna estrella apagada.\n",
      "\n"
     ]
    }
   ],
   "source": [
    "def _deleting_tildes(file_content):\n",
    "    changes = [['á', 'a'], ['é', 'e'], ['í', 'i'], ['ó', 'o'], ['ú', 'u']]\n",
    "    file_content = _replacing_various(file_content, changes)\n",
    "    return file_content\n",
    "\n",
    "# Codigo a ejecutar\n",
    "\n",
    "file_content = _deleting_tildes(file_content)\n",
    "print(file_content)"
   ]
  },
  {
   "cell_type": "markdown",
   "id": "1415d8d1",
   "metadata": {},
   "source": [
    "## Convierta todas las letras a mayúsculas"
   ]
  },
  {
   "cell_type": "code",
   "execution_count": 4,
   "id": "7f9aaf65",
   "metadata": {},
   "outputs": [
    {
     "name": "stdout",
     "output_type": "stream",
     "text": [
      "MI CORAZON OPRIMIDO\n",
      "SIENTE IVNTO A LA ALBORADA\n",
      "EL DOLOR DE SVS AMORES\n",
      "Z EL SVENO DE LAS DISTANCIA.\n",
      "LA LVZ DE LA AVRORA LLEVA\n",
      "SEMILLEROS DE NOSTALGIAS\n",
      "Z LA TRISTEZA SIN LOS OIOS\n",
      "DE LA MEDVLA DEL ALMA.\n",
      "LA GRAN TVMBA DE LA NOCIE\n",
      "SV NEGRO VELO LEVANTA\n",
      "PARA OCVLTAR CON EL DIA\n",
      "LA INMENSA CVMBRE ESTRELLADA.\n",
      "¡QVE IARE ZO SOBRE ESTOS CAMPOS\n",
      "COGIENDO NINOS Z RAMAS\n",
      "RODEADO DE LA AVRORA\n",
      "Z LLENA DE NOCIE EL AMA!\n",
      "¡QVE IARE SI TIENES TVS OIOS\n",
      "MVERTOS A LAS LVCES CLARAS\n",
      "Z NO IA DE SENTIR MI CARNE\n",
      "EL CALOR DE TVS MIRADAS!\n",
      "¿POR QVE TE PERDI POR SIEMPRE\n",
      "EN AQVELLA TARDE CLARA?\n",
      "IOZ MI PECIO ESTA RESECO\n",
      "COMO VNA ESTRELLA APAGADA.\n",
      "\n"
     ]
    }
   ],
   "source": [
    "file_content = file_content.upper()\n",
    "print(file_content)"
   ]
  },
  {
   "cell_type": "markdown",
   "id": "d0a7c65b",
   "metadata": {},
   "source": [
    "## Elimine los espacios en blanco y los signos de puntuación "
   ]
  },
  {
   "cell_type": "code",
   "execution_count": 5,
   "id": "090d1e2e",
   "metadata": {},
   "outputs": [
    {
     "name": "stdout",
     "output_type": "stream",
     "text": [
      "MICORAZONOPRIMIDOSIENTEIVNTOALAALBORADAELDOLORDESVSAMORESZELSVENODELASDISTANCIALALVZDELAAVRORALLEVASEMILLEROSDENOSTALGIASZLATRISTEZASINLOSOIOSDELAMEDVLADELALMALAGRANTVMBADELANOCIESVNEGROVELOLEVANTAPARAOCVLTARCONELDIALAINMENSACVMBREESTRELLADAQVEIAREZOSOBREESTOSCAMPOSCOGIENDONINOSZRAMASRODEADODELAAVRORAZLLENADENOCIEELAMAQVEIARESITIENESTVSOIOSMVERTOSALASLVCESCLARASZNOIADESENTIRMICARNEELCALORDETVSMIRADASPORQVETEPERDIPORSIEMPREENAQVELLATARDECLARAIOZMIPECIOESTARESECOCOMOVNAESTRELLAAPAGADA\n"
     ]
    }
   ],
   "source": [
    "import string\n",
    "\n",
    "def _delete_blank_spaces(file_content: str):\n",
    "    changes = [[' ', ''], ['\\n', '']]\n",
    "    return _replacing_various(file_content, changes)\n",
    "\n",
    "\n",
    "def _deleting_punctuation_marks(file_content):\n",
    "    punctuation_marks = string.punctuation + \"¿¡\"\n",
    "    for char in punctuation_marks:\n",
    "        file_content = file_content.replace(char, '')\n",
    "    return file_content\n",
    "\n",
    "# Codigo a ejecutar\n",
    "\n",
    "file_content = _delete_blank_spaces(file_content)\n",
    "file_content = _deleting_punctuation_marks(file_content)\n",
    "print(file_content)"
   ]
  },
  {
   "cell_type": "markdown",
   "id": "8aa9a771",
   "metadata": {},
   "source": [
    "## Indique cuál sería el alfabeto resultante y cuál su longitud"
   ]
  },
  {
   "cell_type": "code",
   "execution_count": 6,
   "id": "01c65804",
   "metadata": {},
   "outputs": [
    {
     "name": "stdout",
     "output_type": "stream",
     "text": [
      "Alfabeto: ['M', 'I', 'C', 'O', 'R', 'A', 'Z', 'N', 'P', 'D', 'S', 'E', 'T', 'V', 'L', 'B', 'G', 'Q'] Longitud 18\n"
     ]
    }
   ],
   "source": [
    "def _alphabet(file_content: str):\n",
    "    alphabet = []\n",
    "    for char in file_content:\n",
    "        if not char in alphabet:\n",
    "            alphabet.append(char)\n",
    "    return alphabet\n",
    "\n",
    "# Codigo a ejecutar\n",
    "\n",
    "alphabet = _alphabet(file_content)\n",
    "print('Alfabeto:', alphabet, 'Longitud' ,len(alphabet))"
   ]
  },
  {
   "cell_type": "markdown",
   "id": "7321c4fe",
   "metadata": {},
   "source": [
    "## Guardar el resultado en el archivo “POEMA_PRE.TXT”"
   ]
  },
  {
   "cell_type": "code",
   "execution_count": 7,
   "id": "848b2100",
   "metadata": {},
   "outputs": [],
   "source": [
    "def _save_file(filemane, file_content):\n",
    "    f = open(filemane, \"w\")\n",
    "    f.write(file_content)\n",
    "    f.close()\n",
    "\n",
    "# Codigo a ejecutar\n",
    "\n",
    "preprocessing_file_name = 'POEMA_PRE.TXT'\n",
    "_save_file(preprocessing_file_name, file_content)"
   ]
  },
  {
   "cell_type": "markdown",
   "id": "53b0ee73",
   "metadata": {},
   "source": [
    "## Abra el archivo generado e implementar una función que calcule una tabla de frecuencias para cada letra de la ’A’ a ’Z’. La función deberá definirse como frecuencias(archivo) y deberá devolver un diccionario cuyos índices son las letras analizadas y cuyos valores son las frecuencias de las mismas en el texto (número de veces que aparecen). Reconozca en el resultado obtenido los cinco caracteres de mayor frecuencia"
   ]
  },
  {
   "cell_type": "code",
   "execution_count": 8,
   "id": "2922751b",
   "metadata": {},
   "outputs": [
    {
     "name": "stdout",
     "output_type": "stream",
     "text": [
      "Character \t Frecuency\n",
      "A \t\t 70\n",
      "E \t\t 63\n",
      "O \t\t 44\n",
      "L \t\t 43\n",
      "S \t\t 39\n",
      "R \t\t 36\n",
      "I \t\t 32\n",
      "N \t\t 25\n",
      "D \t\t 25\n",
      "V \t\t 23\n",
      "T \t\t 20\n",
      "M \t\t 18\n",
      "C \t\t 17\n",
      "Z \t\t 10\n",
      "P \t\t 9\n",
      "G \t\t 5\n",
      "B \t\t 4\n",
      "Q \t\t 4\n",
      "Los mas frecuentes: ['A', 'E', 'O', 'L', 'S']\n"
     ]
    }
   ],
   "source": [
    "def _alphabet_frecuency(file_content):\n",
    "    alphabet = {}\n",
    "    for char in file_content:\n",
    "        if char in alphabet:\n",
    "            alphabet[char] = alphabet[char] + 1\n",
    "        else:\n",
    "            alphabet[char] = 1\n",
    "    return alphabet\n",
    "\n",
    "# Codigo a ejecutar\n",
    "\n",
    "file_content_preprocessed = _get_file_content(preprocessing_file_name)\n",
    "alphabet_frecuency = _alphabet_frecuency(file_content_preprocessed)\n",
    "alphabet_frecuency_sorted =  dict(sorted(alphabet_frecuency.items(), key=lambda item: item[1], reverse=True))\n",
    "print('Character', '\\t' ,'Frecuency')\n",
    "count = 0\n",
    "frecuents = []\n",
    "for char in alphabet_frecuency_sorted:\n",
    "    if count < 5:\n",
    "        frecuents.append(char)\n",
    "        count = count+1\n",
    "    print(char, '\\t\\t', alphabet_frecuency_sorted[char])\n",
    "print('Los mas frecuentes:', frecuents)"
   ]
  },
  {
   "cell_type": "markdown",
   "id": "0f5d0925",
   "metadata": {},
   "source": [
    "## Obtener la información que el método Kasiski requiere para implementar un ataque, para ello deberá recorrer el texto preprocesado y hallar los trigramas en el mismo (sucesión de tres letras seguidas que se repiten) y las distancias (número de caracteres entre dos trigramas iguales consecutivos) "
   ]
  },
  {
   "cell_type": "code",
   "execution_count": 9,
   "id": "040ccdbb",
   "metadata": {},
   "outputs": [
    {
     "name": "stdout",
     "output_type": "stream",
     "text": [
      "Trigram \t Frecuency \tDistances\n",
      "ELA \t\t 7 \t\t [66, 16, 55, 7, 15, 119, 19]\n",
      "DEL \t\t 6 \t\t [65, 16, 55, 7, 15, 119]\n",
      "ALA \t\t 5 \t\t [28, 47, 77, 54, 131]\n",
      "EST \t\t 5 \t\t [231, 21, 75, 119, 14]\n",
      "ORA \t\t 4 \t\t [3, 28, 54, 205]\n",
      "LAA \t\t 4 \t\t [29, 54, 205, 181]\n",
      "ADA \t\t 4 \t\t [36, 199, 158, 82]\n",
      "ADE \t\t 4 \t\t [151, 15, 135, 58]\n",
      "QVE \t\t 4 \t\t [241, 76, 83, 20]\n",
      "IEN \t\t 3 \t\t [18, 248, 58]\n",
      "RDE \t\t 3 \t\t [45, 342, 44]\n",
      "RES \t\t 3 \t\t [54, 268, 131]\n",
      "ENO \t\t 3 \t\t [62, 45, 196]\n",
      "ODE \t\t 3 \t\t [64, 219, 2]\n",
      "STA \t\t 3 \t\t [72, 38, 340]\n",
      "LLE \t\t 3 \t\t [94, 6, 197]\n",
      "ARA \t\t 3 \t\t [198, 159, 79]\n",
      "TAR \t\t 3 \t\t [205, 227, 19]\n",
      "REE \t\t 3 \t\t [229, 21, 168]\n",
      "ELL \t\t 3 \t\t [235, 193, 42]\n",
      "LLA \t\t 3 \t\t [236, 193, 42]\n",
      "AQV \t\t 3 \t\t [240, 76, 106]\n",
      "ARE \t\t 3 \t\t [245, 76, 131]\n",
      "MIC \t\t 2 \t\t [0, 374]\n",
      "RAZ \t\t 2 \t\t [4, 293]\n",
      "SIE \t\t 2 \t\t [17, 399]\n",
      "ENT \t\t 2 \t\t [19, 350]\n",
      "RAD \t\t 2 \t\t [35, 360]\n",
      "ELD \t\t 2 \t\t [39, 169]\n",
      "LOR \t\t 2 \t\t [43, 342]\n",
      "ORD \t\t 2 \t\t [44, 342]\n",
      "DES \t\t 2 \t\t [46, 320]\n",
      "ESV \t\t 2 \t\t [47, 128]\n",
      "LAS \t\t 2 \t\t [67, 280]\n",
      "IST \t\t 2 \t\t [71, 52]\n",
      "IAL \t\t 2 \t\t [77, 134]\n",
      "LAL \t\t 2 \t\t [79, 72]\n",
      "AAV \t\t 2 \t\t [87, 205]\n",
      "AVR \t\t 2 \t\t [88, 205]\n",
      "VRO \t\t 2 \t\t [89, 205]\n",
      "ROR \t\t 2 \t\t [90, 205]\n",
      "LEV \t\t 2 \t\t [95, 92]\n",
      "EVA \t\t 2 \t\t [96, 92]\n",
      "OSD \t\t 2 \t\t [107, 30]\n",
      "SDE \t\t 2 \t\t [108, 30]\n",
      "DEN \t\t 2 \t\t [109, 196]\n",
      "NOS \t\t 2 \t\t [111, 162]\n",
      "ASZ \t\t 2 \t\t [119, 240]\n",
      "LAT \t\t 2 \t\t [122, 308]\n",
      "OSO \t\t 2 \t\t [136, 110]\n",
      "SOI \t\t 2 \t\t [137, 197]\n",
      "OIO \t\t 2 \t\t [138, 197]\n",
      "IOS \t\t 2 \t\t [139, 197]\n",
      "LAM \t\t 2 \t\t [144, 169]\n",
      "LAD \t\t 2 \t\t [150, 84]\n",
      "ANT \t\t 2 \t\t [163, 27]\n",
      "VMB \t\t 2 \t\t [166, 57]\n",
      "NOC \t\t 2 \t\t [174, 133]\n",
      "OCI \t\t 2 \t\t [175, 133]\n",
      "CIE \t\t 2 \t\t [176, 133]\n",
      "VEL \t\t 2 \t\t [186, 241]\n",
      "APA \t\t 2 \t\t [196, 281]\n",
      "BRE \t\t 2 \t\t [228, 21]\n",
      "EES \t\t 2 \t\t [230, 21]\n",
      "STR \t\t 2 \t\t [232, 238]\n",
      "TRE \t\t 2 \t\t [233, 238]\n",
      "REL \t\t 2 \t\t [234, 238]\n",
      "VEI \t\t 2 \t\t [242, 76]\n",
      "EIA \t\t 2 \t\t [243, 76]\n",
      "IAR \t\t 2 \t\t [244, 76]\n",
      "TOS \t\t 2 \t\t [257, 86]\n",
      "OSC \t\t 2 \t\t [258, 3]\n",
      "AMA \t\t 2 \t\t [281, 33]\n",
      "ENA \t\t 2 \t\t [305, 118]\n",
      "EEL \t\t 2 \t\t [314, 66]\n",
      "TVS \t\t 2 \t\t [335, 55]\n",
      "CLA \t\t 2 \t\t [358, 79]\n",
      "LAR \t\t 2 \t\t [359, 79]\n",
      "ESE \t\t 2 \t\t [370, 87]\n",
      "POR \t\t 2 \t\t [403, 10]\n",
      "ICO \t\t 1 \t\t [1]\n",
      "COR \t\t 1 \t\t [2]\n",
      "AZO \t\t 1 \t\t [5]\n",
      "ZON \t\t 1 \t\t [6]\n",
      "ONO \t\t 1 \t\t [7]\n",
      "NOP \t\t 1 \t\t [8]\n",
      "OPR \t\t 1 \t\t [9]\n",
      "PRI \t\t 1 \t\t [10]\n",
      "RIM \t\t 1 \t\t [11]\n",
      "IMI \t\t 1 \t\t [12]\n",
      "MID \t\t 1 \t\t [13]\n",
      "IDO \t\t 1 \t\t [14]\n",
      "DOS \t\t 1 \t\t [15]\n",
      "OSI \t\t 1 \t\t [16]\n",
      "NTE \t\t 1 \t\t [20]\n",
      "TEI \t\t 1 \t\t [21]\n",
      "EIV \t\t 1 \t\t [22]\n",
      "IVN \t\t 1 \t\t [23]\n",
      "VNT \t\t 1 \t\t [24]\n",
      "NTO \t\t 1 \t\t [25]\n",
      "TOA \t\t 1 \t\t [26]\n",
      "OAL \t\t 1 \t\t [27]\n",
      "AAL \t\t 1 \t\t [30]\n",
      "ALB \t\t 1 \t\t [31]\n",
      "LBO \t\t 1 \t\t [32]\n",
      "BOR \t\t 1 \t\t [33]\n",
      "DAE \t\t 1 \t\t [37]\n",
      "AEL \t\t 1 \t\t [38]\n",
      "LDO \t\t 1 \t\t [40]\n",
      "DOL \t\t 1 \t\t [41]\n",
      "OLO \t\t 1 \t\t [42]\n",
      "SVS \t\t 1 \t\t [48]\n",
      "VSA \t\t 1 \t\t [49]\n",
      "SAM \t\t 1 \t\t [50]\n",
      "AMO \t\t 1 \t\t [51]\n",
      "MOR \t\t 1 \t\t [52]\n",
      "ORE \t\t 1 \t\t [53]\n",
      "ESZ \t\t 1 \t\t [55]\n",
      "SZE \t\t 1 \t\t [56]\n",
      "ZEL \t\t 1 \t\t [57]\n",
      "ELS \t\t 1 \t\t [58]\n",
      "LSV \t\t 1 \t\t [59]\n",
      "SVE \t\t 1 \t\t [60]\n",
      "VEN \t\t 1 \t\t [61]\n",
      "NOD \t\t 1 \t\t [63]\n",
      "ASD \t\t 1 \t\t [68]\n",
      "SDI \t\t 1 \t\t [69]\n",
      "DIS \t\t 1 \t\t [70]\n",
      "TAN \t\t 1 \t\t [73]\n",
      "ANC \t\t 1 \t\t [74]\n",
      "NCI \t\t 1 \t\t [75]\n",
      "CIA \t\t 1 \t\t [76]\n",
      "ALV \t\t 1 \t\t [80]\n",
      "LVZ \t\t 1 \t\t [81]\n",
      "VZD \t\t 1 \t\t [82]\n",
      "ZDE \t\t 1 \t\t [83]\n",
      "RAL \t\t 1 \t\t [92]\n",
      "ALL \t\t 1 \t\t [93]\n",
      "VAS \t\t 1 \t\t [97]\n",
      "ASE \t\t 1 \t\t [98]\n",
      "SEM \t\t 1 \t\t [99]\n",
      "EMI \t\t 1 \t\t [100]\n",
      "MIL \t\t 1 \t\t [101]\n",
      "ILL \t\t 1 \t\t [102]\n",
      "LER \t\t 1 \t\t [104]\n",
      "ERO \t\t 1 \t\t [105]\n",
      "ROS \t\t 1 \t\t [106]\n",
      "OST \t\t 1 \t\t [112]\n",
      "TAL \t\t 1 \t\t [114]\n",
      "ALG \t\t 1 \t\t [115]\n",
      "LGI \t\t 1 \t\t [116]\n",
      "GIA \t\t 1 \t\t [117]\n",
      "IAS \t\t 1 \t\t [118]\n",
      "SZL \t\t 1 \t\t [120]\n",
      "ZLA \t\t 1 \t\t [121]\n",
      "ATR \t\t 1 \t\t [123]\n",
      "TRI \t\t 1 \t\t [124]\n",
      "RIS \t\t 1 \t\t [125]\n",
      "STE \t\t 1 \t\t [127]\n",
      "TEZ \t\t 1 \t\t [128]\n",
      "EZA \t\t 1 \t\t [129]\n",
      "ZAS \t\t 1 \t\t [130]\n",
      "ASI \t\t 1 \t\t [131]\n",
      "SIN \t\t 1 \t\t [132]\n",
      "INL \t\t 1 \t\t [133]\n",
      "NLO \t\t 1 \t\t [134]\n",
      "LOS \t\t 1 \t\t [135]\n",
      "AME \t\t 1 \t\t [145]\n",
      "MED \t\t 1 \t\t [146]\n",
      "EDV \t\t 1 \t\t [147]\n",
      "DVL \t\t 1 \t\t [148]\n",
      "VLA \t\t 1 \t\t [149]\n",
      "ALM \t\t 1 \t\t [155]\n",
      "LMA \t\t 1 \t\t [156]\n",
      "MAL \t\t 1 \t\t [157]\n",
      "LAG \t\t 1 \t\t [159]\n",
      "AGR \t\t 1 \t\t [160]\n",
      "GRA \t\t 1 \t\t [161]\n",
      "RAN \t\t 1 \t\t [162]\n",
      "NTV \t\t 1 \t\t [164]\n",
      "TVM \t\t 1 \t\t [165]\n",
      "MBA \t\t 1 \t\t [167]\n",
      "BAD \t\t 1 \t\t [168]\n",
      "LAN \t\t 1 \t\t [172]\n",
      "ANO \t\t 1 \t\t [173]\n",
      "IES \t\t 1 \t\t [177]\n",
      "SVN \t\t 1 \t\t [179]\n",
      "VNE \t\t 1 \t\t [180]\n",
      "NEG \t\t 1 \t\t [181]\n",
      "EGR \t\t 1 \t\t [182]\n",
      "GRO \t\t 1 \t\t [183]\n",
      "ROV \t\t 1 \t\t [184]\n",
      "OVE \t\t 1 \t\t [185]\n",
      "ELO \t\t 1 \t\t [187]\n",
      "LOL \t\t 1 \t\t [188]\n",
      "OLE \t\t 1 \t\t [189]\n",
      "VAN \t\t 1 \t\t [192]\n",
      "NTA \t\t 1 \t\t [194]\n",
      "TAP \t\t 1 \t\t [195]\n",
      "PAR \t\t 1 \t\t [197]\n",
      "RAO \t\t 1 \t\t [199]\n",
      "AOC \t\t 1 \t\t [200]\n",
      "OCV \t\t 1 \t\t [201]\n",
      "CVL \t\t 1 \t\t [202]\n",
      "VLT \t\t 1 \t\t [203]\n",
      "LTA \t\t 1 \t\t [204]\n",
      "ARC \t\t 1 \t\t [206]\n",
      "RCO \t\t 1 \t\t [207]\n",
      "CON \t\t 1 \t\t [208]\n",
      "ONE \t\t 1 \t\t [209]\n",
      "NEL \t\t 1 \t\t [210]\n",
      "LDI \t\t 1 \t\t [212]\n",
      "DIA \t\t 1 \t\t [213]\n",
      "LAI \t\t 1 \t\t [216]\n",
      "AIN \t\t 1 \t\t [217]\n",
      "INM \t\t 1 \t\t [218]\n",
      "NME \t\t 1 \t\t [219]\n",
      "MEN \t\t 1 \t\t [220]\n",
      "ENS \t\t 1 \t\t [221]\n",
      "NSA \t\t 1 \t\t [222]\n",
      "SAC \t\t 1 \t\t [223]\n",
      "ACV \t\t 1 \t\t [224]\n",
      "CVM \t\t 1 \t\t [225]\n",
      "MBR \t\t 1 \t\t [227]\n",
      "DAQ \t\t 1 \t\t [239]\n",
      "REZ \t\t 1 \t\t [246]\n",
      "EZO \t\t 1 \t\t [247]\n",
      "ZOS \t\t 1 \t\t [248]\n",
      "SOB \t\t 1 \t\t [250]\n",
      "OBR \t\t 1 \t\t [251]\n",
      "STO \t\t 1 \t\t [256]\n",
      "SCA \t\t 1 \t\t [259]\n",
      "CAM \t\t 1 \t\t [260]\n",
      "AMP \t\t 1 \t\t [261]\n",
      "MPO \t\t 1 \t\t [262]\n",
      "POS \t\t 1 \t\t [263]\n",
      "SCO \t\t 1 \t\t [265]\n",
      "COG \t\t 1 \t\t [266]\n",
      "OGI \t\t 1 \t\t [267]\n",
      "GIE \t\t 1 \t\t [268]\n",
      "END \t\t 1 \t\t [270]\n",
      "NDO \t\t 1 \t\t [271]\n",
      "DON \t\t 1 \t\t [272]\n",
      "ONI \t\t 1 \t\t [273]\n",
      "NIN \t\t 1 \t\t [274]\n",
      "INO \t\t 1 \t\t [275]\n",
      "OSZ \t\t 1 \t\t [277]\n",
      "SZR \t\t 1 \t\t [278]\n",
      "ZRA \t\t 1 \t\t [279]\n",
      "RAM \t\t 1 \t\t [280]\n",
      "MAS \t\t 1 \t\t [282]\n",
      "ASR \t\t 1 \t\t [283]\n",
      "SRO \t\t 1 \t\t [284]\n",
      "ROD \t\t 1 \t\t [285]\n",
      "DEA \t\t 1 \t\t [287]\n",
      "EAD \t\t 1 \t\t [288]\n",
      "ADO \t\t 1 \t\t [289]\n",
      "DOD \t\t 1 \t\t [290]\n",
      "AZL \t\t 1 \t\t [301]\n",
      "ZLL \t\t 1 \t\t [302]\n",
      "LEN \t\t 1 \t\t [304]\n",
      "NAD \t\t 1 \t\t [306]\n",
      "IEE \t\t 1 \t\t [313]\n",
      "MAQ \t\t 1 \t\t [318]\n",
      "ESI \t\t 1 \t\t [326]\n",
      "SIT \t\t 1 \t\t [327]\n",
      "ITI \t\t 1 \t\t [328]\n",
      "TIE \t\t 1 \t\t [329]\n",
      "ENE \t\t 1 \t\t [331]\n",
      "NES \t\t 1 \t\t [332]\n",
      "STV \t\t 1 \t\t [334]\n",
      "VSO \t\t 1 \t\t [336]\n",
      "OSM \t\t 1 \t\t [340]\n",
      "SMV \t\t 1 \t\t [341]\n",
      "MVE \t\t 1 \t\t [342]\n",
      "VER \t\t 1 \t\t [343]\n",
      "ERT \t\t 1 \t\t [344]\n",
      "RTO \t\t 1 \t\t [345]\n",
      "OSA \t\t 1 \t\t [347]\n",
      "SAL \t\t 1 \t\t [348]\n",
      "ASL \t\t 1 \t\t [351]\n",
      "SLV \t\t 1 \t\t [352]\n",
      "LVC \t\t 1 \t\t [353]\n",
      "VCE \t\t 1 \t\t [354]\n",
      "CES \t\t 1 \t\t [355]\n",
      "ESC \t\t 1 \t\t [356]\n",
      "SCL \t\t 1 \t\t [357]\n",
      "RAS \t\t 1 \t\t [361]\n",
      "SZN \t\t 1 \t\t [363]\n",
      "ZNO \t\t 1 \t\t [364]\n",
      "NOI \t\t 1 \t\t [365]\n",
      "OIA \t\t 1 \t\t [366]\n",
      "IAD \t\t 1 \t\t [367]\n",
      "SEN \t\t 1 \t\t [371]\n",
      "NTI \t\t 1 \t\t [373]\n",
      "TIR \t\t 1 \t\t [374]\n",
      "IRM \t\t 1 \t\t [375]\n",
      "RMI \t\t 1 \t\t [376]\n",
      "ICA \t\t 1 \t\t [378]\n",
      "CAR \t\t 1 \t\t [379]\n",
      "ARN \t\t 1 \t\t [380]\n",
      "RNE \t\t 1 \t\t [381]\n",
      "NEE \t\t 1 \t\t [382]\n",
      "ELC \t\t 1 \t\t [384]\n",
      "LCA \t\t 1 \t\t [385]\n",
      "CAL \t\t 1 \t\t [386]\n",
      "ALO \t\t 1 \t\t [387]\n",
      "DET \t\t 1 \t\t [391]\n",
      "ETV \t\t 1 \t\t [392]\n",
      "VSM \t\t 1 \t\t [394]\n",
      "SMI \t\t 1 \t\t [395]\n",
      "MIR \t\t 1 \t\t [396]\n",
      "IRA \t\t 1 \t\t [397]\n",
      "DAS \t\t 1 \t\t [400]\n",
      "ASP \t\t 1 \t\t [401]\n",
      "SPO \t\t 1 \t\t [402]\n",
      "ORQ \t\t 1 \t\t [404]\n",
      "RQV \t\t 1 \t\t [405]\n",
      "VET \t\t 1 \t\t [407]\n",
      "ETE \t\t 1 \t\t [408]\n",
      "TEP \t\t 1 \t\t [409]\n",
      "EPE \t\t 1 \t\t [410]\n",
      "PER \t\t 1 \t\t [411]\n",
      "ERD \t\t 1 \t\t [412]\n",
      "RDI \t\t 1 \t\t [413]\n",
      "DIP \t\t 1 \t\t [414]\n",
      "IPO \t\t 1 \t\t [415]\n",
      "ORS \t\t 1 \t\t [417]\n",
      "RSI \t\t 1 \t\t [418]\n",
      "IEM \t\t 1 \t\t [420]\n",
      "EMP \t\t 1 \t\t [421]\n",
      "MPR \t\t 1 \t\t [422]\n",
      "PRE \t\t 1 \t\t [423]\n",
      "EEN \t\t 1 \t\t [425]\n",
      "NAQ \t\t 1 \t\t [427]\n",
      "ATA \t\t 1 \t\t [434]\n",
      "ARD \t\t 1 \t\t [436]\n",
      "DEC \t\t 1 \t\t [438]\n",
      "ECL \t\t 1 \t\t [439]\n",
      "RAI \t\t 1 \t\t [443]\n",
      "AIO \t\t 1 \t\t [444]\n",
      "IOZ \t\t 1 \t\t [445]\n",
      "OZM \t\t 1 \t\t [446]\n",
      "ZMI \t\t 1 \t\t [447]\n",
      "MIP \t\t 1 \t\t [448]\n",
      "IPE \t\t 1 \t\t [449]\n",
      "PEC \t\t 1 \t\t [450]\n",
      "ECI \t\t 1 \t\t [451]\n",
      "CIO \t\t 1 \t\t [452]\n",
      "IOE \t\t 1 \t\t [453]\n",
      "OES \t\t 1 \t\t [454]\n",
      "SEC \t\t 1 \t\t [461]\n",
      "ECO \t\t 1 \t\t [462]\n",
      "COC \t\t 1 \t\t [463]\n",
      "OCO \t\t 1 \t\t [464]\n",
      "COM \t\t 1 \t\t [465]\n",
      "OMO \t\t 1 \t\t [466]\n",
      "MOV \t\t 1 \t\t [467]\n",
      "OVN \t\t 1 \t\t [468]\n",
      "VNA \t\t 1 \t\t [469]\n",
      "NAE \t\t 1 \t\t [470]\n",
      "AES \t\t 1 \t\t [471]\n",
      "AAP \t\t 1 \t\t [479]\n",
      "PAG \t\t 1 \t\t [481]\n",
      "AGA \t\t 1 \t\t [482]\n",
      "GAD \t\t 1 \t\t [483]\n"
     ]
    }
   ],
   "source": [
    "def get_trigram_distance(trigram, content):\n",
    "    index = content.find(trigram)\n",
    "    return index\n",
    "\n",
    "\n",
    "def get_trigram_distances(trigram, file_content):\n",
    "    rest_content = file_content\n",
    "    distances = []\n",
    "    while len(rest_content) > 0:\n",
    "        index = get_trigram_distance(trigram, rest_content)\n",
    "        if not index < 0:\n",
    "            distances.append(index)\n",
    "            rest_content = rest_content[index+len(trigram):]\n",
    "        else:\n",
    "            break\n",
    "    return distances \n",
    "\n",
    "def get_trigrams_distances(file_content):\n",
    "    rest_content = file_content\n",
    "    distances = {}\n",
    "    while len(rest_content) > 3:\n",
    "        trigram = rest_content[0:3]\n",
    "        distances_ = get_trigram_distances(trigram, file_content)\n",
    "        distances[trigram] = distances_\n",
    "        rest_content = rest_content[1:]\n",
    "    return distances \n",
    "\n",
    "trigrams = get_trigrams_distances(file_content_preprocessed)\n",
    "trigrams_sorted =  dict(sorted(trigrams.items(), key=lambda item: len(item[1]), reverse=True))\n",
    "print('Trigram', '\\t' ,'Frecuency', '\\tDistances')\n",
    "for trigram in trigrams_sorted:\n",
    "    print(trigram, '\\t\\t', len(trigrams[trigram]), '\\t\\t', trigrams[trigram])"
   ]
  },
  {
   "cell_type": "markdown",
   "id": "1bec0f6e",
   "metadata": {},
   "source": [
    "## Volver a preprocesar el archivo cambiando cada carácter según UNICODE-8"
   ]
  },
  {
   "cell_type": "code",
   "execution_count": 10,
   "id": "0f70a213",
   "metadata": {},
   "outputs": [
    {
     "name": "stdout",
     "output_type": "stream",
     "text": [
      "0x4d0x490x430x4f0x520x410x5a0x4f0x4e0x4f0x500x520x490x4d0x490x440x4f0x530x490x450x4e0x540x450x490x560x4e0x540x4f0x410x4c0x410x410x4c0x420x4f0x520x410x440x410x450x4c0x440x4f0x4c0x4f0x520x440x450x530x560x530x410x4d0x4f0x520x450x530x5a0x450x4c0x530x560x450x4e0x4f0x440x450x4c0x410x530x440x490x530x540x410x4e0x430x490x410x4c0x410x4c0x560x5a0x440x450x4c0x410x410x560x520x4f0x520x410x4c0x4c0x450x560x410x530x450x4d0x490x4c0x4c0x450x520x4f0x530x440x450x4e0x4f0x530x540x410x4c0x470x490x410x530x5a0x4c0x410x540x520x490x530x540x450x5a0x410x530x490x4e0x4c0x4f0x530x4f0x490x4f0x530x440x450x4c0x410x4d0x450x440x560x4c0x410x440x450x4c0x410x4c0x4d0x410x4c0x410x470x520x410x4e0x540x560x4d0x420x410x440x450x4c0x410x4e0x4f0x430x490x450x530x560x4e0x450x470x520x4f0x560x450x4c0x4f0x4c0x450x560x410x4e0x540x410x500x410x520x410x4f0x430x560x4c0x540x410x520x430x4f0x4e0x450x4c0x440x490x410x4c0x410x490x4e0x4d0x450x4e0x530x410x430x560x4d0x420x520x450x450x530x540x520x450x4c0x4c0x410x440x410x510x560x450x490x410x520x450x5a0x4f0x530x4f0x420x520x450x450x530x540x4f0x530x430x410x4d0x500x4f0x530x430x4f0x470x490x450x4e0x440x4f0x4e0x490x4e0x4f0x530x5a0x520x410x4d0x410x530x520x4f0x440x450x410x440x4f0x440x450x4c0x410x410x560x520x4f0x520x410x5a0x4c0x4c0x450x4e0x410x440x450x4e0x4f0x430x490x450x450x4c0x410x4d0x410x510x560x450x490x410x520x450x530x490x540x490x450x4e0x450x530x540x560x530x4f0x490x4f0x530x4d0x560x450x520x540x4f0x530x410x4c0x410x530x4c0x560x430x450x530x430x4c0x410x520x410x530x5a0x4e0x4f0x490x410x440x450x530x450x4e0x540x490x520x4d0x490x430x410x520x4e0x450x450x4c0x430x410x4c0x4f0x520x440x450x540x560x530x4d0x490x520x410x440x410x530x500x4f0x520x510x560x450x540x450x500x450x520x440x490x500x4f0x520x530x490x450x4d0x500x520x450x450x4e0x410x510x560x450x4c0x4c0x410x540x410x520x440x450x430x4c0x410x520x410x490x4f0x5a0x4d0x490x500x450x430x490x4f0x450x530x540x410x520x450x530x450x430x4f0x430x4f0x4d0x4f0x560x4e0x410x450x530x540x520x450x4c0x4c0x410x410x500x410x470x410x440x41\n"
     ]
    }
   ],
   "source": [
    "def encode(text, charset):\n",
    "    result = ''\n",
    "    for char in text:\n",
    "        result = result + str(hex(ord(char.encode(charset))))\n",
    "    return result\n",
    "\n",
    "filename = 'POEMA_PRE.TXT'\n",
    "file_content = _get_file_content(filename)\n",
    "unicode_8 = encode(file_content, 'utf-8')\n",
    "print (unicode_8)"
   ]
  },
  {
   "cell_type": "markdown",
   "id": "6ca833f7",
   "metadata": {},
   "source": [
    "## Volver a preprocesar el archivo cambiando cada carácter según alfabeto de su elección"
   ]
  },
  {
   "cell_type": "code",
   "execution_count": 11,
   "id": "0247a90c",
   "metadata": {},
   "outputs": [
    {
     "name": "stdout",
     "output_type": "stream",
     "text": [
      "77$73$67$79$82$65$90$79$78$79$80$82$73$77$73$68$79$83$73$69$78$84$69$73$86$78$84$79$65$76$65$65$76$66$79$82$65$68$65$69$76$68$79$76$79$82$68$69$83$86$83$65$77$79$82$69$83$90$69$76$83$86$69$78$79$68$69$76$65$83$68$73$83$84$65$78$67$73$65$76$65$76$86$90$68$69$76$65$65$86$82$79$82$65$76$76$69$86$65$83$69$77$73$76$76$69$82$79$83$68$69$78$79$83$84$65$76$71$73$65$83$90$76$65$84$82$73$83$84$69$90$65$83$73$78$76$79$83$79$73$79$83$68$69$76$65$77$69$68$86$76$65$68$69$76$65$76$77$65$76$65$71$82$65$78$84$86$77$66$65$68$69$76$65$78$79$67$73$69$83$86$78$69$71$82$79$86$69$76$79$76$69$86$65$78$84$65$80$65$82$65$79$67$86$76$84$65$82$67$79$78$69$76$68$73$65$76$65$73$78$77$69$78$83$65$67$86$77$66$82$69$69$83$84$82$69$76$76$65$68$65$81$86$69$73$65$82$69$90$79$83$79$66$82$69$69$83$84$79$83$67$65$77$80$79$83$67$79$71$73$69$78$68$79$78$73$78$79$83$90$82$65$77$65$83$82$79$68$69$65$68$79$68$69$76$65$65$86$82$79$82$65$90$76$76$69$78$65$68$69$78$79$67$73$69$69$76$65$77$65$81$86$69$73$65$82$69$83$73$84$73$69$78$69$83$84$86$83$79$73$79$83$77$86$69$82$84$79$83$65$76$65$83$76$86$67$69$83$67$76$65$82$65$83$90$78$79$73$65$68$69$83$69$78$84$73$82$77$73$67$65$82$78$69$69$76$67$65$76$79$82$68$69$84$86$83$77$73$82$65$68$65$83$80$79$82$81$86$69$84$69$80$69$82$68$73$80$79$82$83$73$69$77$80$82$69$69$78$65$81$86$69$76$76$65$84$65$82$68$69$67$76$65$82$65$73$79$90$77$73$80$69$67$73$79$69$83$84$65$82$69$83$69$67$79$67$79$77$79$86$78$65$69$83$84$82$69$76$76$65$65$80$65$71$65$68$65$\n"
     ]
    }
   ],
   "source": [
    "def encode(text):\n",
    "    result = ''\n",
    "    for char in text:\n",
    "        result = result + str(ord(char)) + '$'\n",
    "    return result\n",
    "\n",
    "filename = 'POEMA_PRE.TXT'\n",
    "file_content = _get_file_content(filename)\n",
    "unicode_8 = encode(file_content)\n",
    "print (unicode_8)"
   ]
  },
  {
   "cell_type": "markdown",
   "id": "fe7569bf",
   "metadata": {},
   "source": [
    "## Volver a preprocesar el archivo insertando la cadena MANI cada 20 caracteres, el texto resultante deberá contener un número de caracteres que sea múltiplo de 4, si es necesario rellenar (padding) al final con caracteres M según se necesite"
   ]
  },
  {
   "cell_type": "code",
   "execution_count": 12,
   "id": "1d6bdebc",
   "metadata": {},
   "outputs": [
    {
     "name": "stdout",
     "output_type": "stream",
     "text": [
      "Resultado: MICORAZONOPRIMIDOSIEMANINTEIVNTOALAALBORMANIADAELDOLORDESVSAMANIMORESZELSVENODELMANIASDISTANCIALALVZMANIDELAAVRORALLEVASMANIEMILLEROSDENOSTAMANILGIASZLATRISTEZAMANISINLOSOIOSDELAMEMANIDVLADELALMALAGRAMANINTVMBADELANOCIESMANIVNEGROVELOLEVANTMANIAPARAOCVLTARCONEMANILDIALAINMENSACVMMANIBREESTRELLADAQVEMANIIAREZOSOBREESTOSMANICAMPOSCOGIENDONIMANINOSZRAMASRODEADOMANIDELAAVRORAZLLENAMANIDENOCIEELAMAQVEIMANIARESITIENESTVSOIMANIOSMVERTOSALASLVCMANIESCLARASZNOIADESMANIENTIRMICARNEELCAMANILORDETVSMIRADASPMANIORQVETEPERDIPORSMANIIEMPREENAQVELLATMANIARDECLARAIOZMIPEMANICIOESTARESECOCOMMANIOVNAESTRELLAAPAGMANIADAMMM \n",
      "Longitud: 610\n"
     ]
    }
   ],
   "source": [
    "def encode(text, repeat='MANI', padding='M', multiple=4, count=20):\n",
    "    counter = count\n",
    "    result = text\n",
    "    while counter < len(result):\n",
    "        result = result[:counter] + repeat + result[counter:]\n",
    "        counter+=count\n",
    "    return result + padding*(len(result)%multiple)\n",
    "\n",
    "        \n",
    "filename = 'POEMA_PRE.TXT'\n",
    "file_content = _get_file_content(filename)\n",
    "encoded = encode(file_content)\n",
    "print ('Resultado:',encoded, '\\nLongitud:', len(encoded))\n",
    "    "
   ]
  },
  {
   "cell_type": "markdown",
   "id": "a3cc129d",
   "metadata": {},
   "source": [
    "# Cuestionario\n",
    "## Describa los siguientes términos (áreas de la seguridad informática)\n"
   ]
  },
  {
   "cell_type": "markdown",
   "id": "a5efddb4",
   "metadata": {},
   "source": [
    "- **Alfabeto, longitud del alfabeto:** Alfabeto viene a ser el conjutno de caracteres permitir para un criptosistema y su longitud describe cual es la cantidad de este conjunto.\n",
    "- **Protección y seguridad de datos:** Medidas de protección de la privacidad digital que se aplican para evitar el acceso no autorizado a los datos <cite data-cite=\"post1\">[1]</cite>.\n",
    "- **Criptografía y criptosistema:** La criptografía son las tecnicas que se encargar de cifrar una cadena de texto o un dato y un criptosistema se encarga de usar la criptografía para cifrar y descifrar un texto o dato.\n",
    "- **Seguridad y fortificación de redes:** La fortifiación de reded se basa en agregar dispostivos o capas de seguridad a un red <cite data-cite=\"post2\">[2]</cite>.\n",
    "- **Gestión de seguridad en equipos y sistemas informáticos:** Mantener protegida la información de un equipo constituye una responsabilidad importante de la administración del sistema  <cite data-cite=\"post3\">[3]</cite>.\n",
    "- **Seguridad en aplicaciones informáticas, programas y bases de datos:** Medidas de seguridad para  impedir el robo o intrusión en los datos o códigos dentro de la aplicación <cite data-cite=\"post4\">[4]</cite>. \n",
    "- **Informática forense:** Proceso para la recopilación, análisis y presentación de la evidencia de un delito que se ha recopilado en un sistema <cite data-cite=\"post5\">[5]</cite>.\n",
    "- **Ciberdelito, ciberseguridad:** Acto ilegal realizado por un usuario o alguien ajeno al sistema dentro de este a través de las redes informáticas y diversos dispositivos electrónicos <cite data-cite=\"post6\">[6]</cite>."
   ]
  },
  {
   "cell_type": "markdown",
   "id": "f0a42b99",
   "metadata": {},
   "source": [
    "## Describa los siguientes términos (áreas de la seguridad de la información)\n",
    "- **Gestión de la seguridad de la información:** Preservación de confidencialidad, integridad y disponibilidad así como los sistemas implicados en su tratamiento  <cite data-cite=\"post7\">[7]</cite>.\n",
    "- **Asesoría y auditoría de la seguridad:** Permiten detectar debilidades y vulnerabilidades de seguridad que podrían ser explotadas por usuarios malintencionados o atacantes  <cite data-cite=\"post8\">[8]</cite>.\n",
    "- **Análisis y gestión de riesgos:** Previene a las empresas de situaciones ue ofrezcan vulnerabilidades en un sistema y recoge una serie de factores fundamentales para su consecución <cite data-cite=\"post9\">[9]</cite>. \n",
    "- **Continuidad de negocio:** Procesos y procedimientos para garantizar que sus funciones esenciales puedan continuar tras producirse un incidente grave <cite data-cite=\"post10\">[10]</cite>\n",
    "- **Buen gobierno:** Procesos que permita al personal de TI administrar mejory operar de la manera más eficiente en beneficio de la organización en general <cite data-cite=\"post11\">[11]</cite>\n",
    "- **Comercio electrónico:** Un sistema de compra y venta de productos y servicios que utiliza Internet como medio principal de intercambio <cite data-cite=\"post12\">[12]</cite>."
   ]
  },
  {
   "cell_type": "markdown",
   "id": "96280c46",
   "metadata": {},
   "source": [
    "## Describa alguna otra operación o función de preprocesamiento que se implemente sobre el texto claro en los criptosistemas, justifique porqué esta etapa es necesaria\n",
    "Estabelcer un mapero entre el resulado y el alafabeto para poder retornar el texto en el descifrado."
   ]
  },
  {
   "cell_type": "markdown",
   "id": "22bb80c8",
   "metadata": {},
   "source": [
    "## Qué riesgo implicaría el implementar el preproceso de la información\n",
    "Que no se pueda retornar al mensaje orginal en el decifrado"
   ]
  },
  {
   "cell_type": "markdown",
   "id": "72a4c9d4",
   "metadata": {},
   "source": [
    "## Describa la máquina enigma, identifique las operaciones criptográficas que implementaba. Luego muestre usando un simulador en internet la encriptación de la frase PERSONA PELIGROSA, para tres posiciones distintas de los rotores\n",
    "\n",
    "La maquina enigma era un dispositivo usado para la encriptación de mensajes durante los años  30s y 40s la cual aplicaba tecnicas de sustitución, este proceso pasaba por tres rotores los cuales iban girando a medida que iba introduciento el texto con la finalidad de hacer más dificl es descifrado. Al final de los 3 rotores habia un reflector que llevaba hacia un tablero que mostraba el resultado de la encriptación.\n",
    "\n",
    "Simulador: http://www.amenigma.com/\n"
   ]
  },
  {
   "cell_type": "markdown",
   "id": "10bb9db4",
   "metadata": {},
   "source": [
    "### Cifrado:\n"
   ]
  },
  {
   "cell_type": "markdown",
   "id": "5bd11146",
   "metadata": {},
   "source": [
    "![Imagen](IMG.png)"
   ]
  },
  {
   "cell_type": "markdown",
   "id": "b376b662",
   "metadata": {},
   "source": [
    "### Descrifrafo"
   ]
  },
  {
   "cell_type": "markdown",
   "id": "63083a33",
   "metadata": {},
   "source": [
    "![Imagen](IMG2.png)"
   ]
  },
  {
   "cell_type": "markdown",
   "id": "1813c924",
   "metadata": {},
   "source": [
    "# Conclusiones\n",
    " - El preprocesar un texto permite el adaptar el alfabeto de la entrada al alfabeto del algoritmo de cifrado.\n",
    " - El preprocesar caracteres como las tildes evita que en el cifrado ocurran errores.\n",
    " - Es importante saber como revertir el efecto del prepocesamiento para el descifrado.\n",
    " - El uso d trigramas nos permite mapear como es que los caracteres estaban antes del preprocesamiento.\n",
    " - La criptografía ha sido parte importante de la historia y esta ha ido evolucionando con el pasar de los tiempo\n",
    " - La tecnica de sustitución ayuda a que el mensaje sea inentendible pero se debe se cuidadoso para poder descifrar el mensaje.\n",
    " - La tecnica de sustitución no solo puede darse entre caracteres de un solo alfebeto si no tambien de otros, por ejemplo ASCII -> UTF-8.\n",
    " - La seguridad informatica en un empresa es importante ya que el robo de información implica perdida de dinero a la empresa especialmente si esta es perteneciente a usuarios ajenos a esta."
   ]
  },
  {
   "cell_type": "markdown",
   "id": "70f29e67",
   "metadata": {},
   "source": [
    "# Rererencias\n",
    "\\begin {thebibliography} {1} \n",
    "\\bibitem {post1} \n",
    "Grupo PowerData, “Seguridad de datos: En qué consiste y qué es importante en tu empresa.” https://www.powerdata.es/seguridad-de-datos (accessed Apr. 19, 2021).\n",
    "\\bibitem {post2} \n",
    "Ciberseguridad Industrial by Logitek, “Segmentación y fortificación de redes OT: El diodo de datos,” Apr. 21, 2016. https://www.ciberseguridadlogitek.com/segmentacion-y-fortificacion-de-redes-ot-el-diodo-de-datos/ (accessed Apr. 19, 2021).\n",
    "\\bibitem {post4}\n",
    "“¿Qué es la seguridad de las aplicaciones?,” Apr. 02, 2021. https://www.vmware.com/topics/glossary/content/application-security.html (accessed Apr. 19, 2021).\n",
    "\\bibitem {post3}\n",
    "Gestión de seguridad de equipos (descripción general) - Guía de administración del sistema: servicios de seguridad\n",
    "\\bibitem {post5}\n",
    "Y. González, F. Tablado, and H. Ramírez, “Informática forense: Qué es, como realizar un análisis forense,” Jul. 03, 2020. https://protecciondatos-lopd.com/empresas/informatica-forense/ (accessed Apr. 19, 2021).\n",
    "\\bibitem {post6}\n",
    "“¿Qué es el ciberdelito?” https://www.capacitarte.org/blog/nota/que-es-el-ciberdelito (accessed Apr. 19, 2021).\n",
    "\\bibitem {post7}\n",
    "L. I. Empresarial, “¿Qué es un sistema de Gestión de la Seguridad de la información (SGSI)?,” May 14, 2018. https://www.lisot.com/que-es-un-sistema-de-gestion-de-la-seguridad-de-la-informacion-sgsi/ (accessed Apr. 19, 2021).\n",
    "\\bibitem {post8}\n",
    "“Auditoría de seguridad informática, ¿en qué consiste?,” Apr. 03, 2020. https://www.unir.net/ingenieria/revista/auditoria-seguridad-informatica/ (accessed Apr. 19, 2021).\n",
    "\\bibitem {post9}\n",
    "P. Rodríguez, “Análisis de riesgos informáticos y ciberseguridad.” https://www.ambit-bst.com/blog/análisis-de-riesgos-informáticos-y-ciberseguridad (accessed Apr. 19, 2021).\n",
    "\\bibitem {post10}\n",
    "ISOTools, “Importancia de la seguridad de la información en un plan de continuidad del negocio,” Nov. 12, 2015. https://www.isotools.org/2015/11/12/importancia-de-la-seguridad-de-la-informacion-en-un-plan-de-continuidad-del-negocio/ (accessed Apr. 19, 2021).\n",
    "\\bibitem {post11}\n",
    "projectadmin, “Gobierno de TI: definiciones, marcos y planificación,” Dec. 18, 2019. http://www.projectadmin.org/gobierno-de-ti-definiciones-marcos-y-planificacion/ (accessed Apr. 19, 2021).\n",
    "\\bibitem {post12}\n",
    "“Qué es un e-commerce: tipos de negocios y pasos para crearlo.” https://www.doofinder.com/es/blog/que-es-e-commerce (accessed Apr. 19, 2021).\n",
    "\n",
    "\\end {thebibliography} \n"
   ]
  }
 ],
 "metadata": {
  "kernelspec": {
   "display_name": "Python 3",
   "language": "python",
   "name": "python3"
  },
  "language_info": {
   "codemirror_mode": {
    "name": "ipython",
    "version": 3
   },
   "file_extension": ".py",
   "mimetype": "text/x-python",
   "name": "python",
   "nbconvert_exporter": "python",
   "pygments_lexer": "ipython3",
   "version": "3.8.5"
  }
 },
 "nbformat": 4,
 "nbformat_minor": 5
}
